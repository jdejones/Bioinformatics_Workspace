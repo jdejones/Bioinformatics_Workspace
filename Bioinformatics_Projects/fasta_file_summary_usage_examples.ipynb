{
 "cells": [
  {
   "cell_type": "markdown",
   "id": "65c4c8b5",
   "metadata": {},
   "source": [
    "parse_fasta example"
   ]
  },
  {
   "cell_type": "code",
   "execution_count": 1,
   "id": "942985b8",
   "metadata": {},
   "outputs": [
    {
     "data": {
      "text/plain": [
       "[SeqRecord(seq=Seq('AGCTTTTCATTCTGACTGCAACGGGCAATATGTCTCTGTGTGGATTAAAAAAAG...TTC'), id='U00096.3', name='U00096.3', description='U00096.3 Escherichia coli str. K-12 substr. MG1655, complete genome', dbxrefs=[]),\n",
       " SeqRecord(seq=Seq('TTGACCGATGACCCCGGTTCAGGCTTCACCACAGTGTGGAACGCGGTCGTCTCC...TCG'), id='NC_000962.3', name='NC_000962.3', description='NC_000962.3 Mycobacterium tuberculosis H37Rv, complete genome', dbxrefs=[])]"
      ]
     },
     "execution_count": 1,
     "metadata": {},
     "output_type": "execute_result"
    }
   ],
   "source": [
    "from fasta_file_summary import parse_fasta\n",
    "parse_fasta(r\"C:\\Users\\jdejo\\Downloads\\sequence_Ecoli_strK12_substrMG1655.fasta\",\n",
    "            r\"C:\\Users\\jdejo\\Downloads\\sequence_Mtuberculosis_H37Rv.fasta\")"
   ]
  },
  {
   "cell_type": "markdown",
   "id": "2b6ed11d",
   "metadata": {},
   "source": [
    "compute_stats example"
   ]
  },
  {
   "cell_type": "code",
   "execution_count": 3,
   "id": "b7a5c02a",
   "metadata": {},
   "outputs": [
    {
     "data": {
      "text/plain": [
       "[{'Sequence_ID': 'U00096.3',\n",
       "  'Length': 4641652,\n",
       "  'GC_Content': 50.79070985933456,\n",
       "  'Description': 'U00096.3 Escherichia coli str. K-12 substr. MG1655, complete genome'},\n",
       " {'Sequence_ID': 'NC_000962.3',\n",
       "  'Length': 4411532,\n",
       "  'GC_Content': 65.61466628826449,\n",
       "  'Description': 'NC_000962.3 Mycobacterium tuberculosis H37Rv, complete genome'}]"
      ]
     },
     "execution_count": 3,
     "metadata": {},
     "output_type": "execute_result"
    }
   ],
   "source": [
    "from fasta_file_summary import compute_stats\n",
    "record = parse_fasta(r\"C:\\Users\\jdejo\\Downloads\\sequence_Ecoli_strK12_substrMG1655.fasta\",\n",
    "                     r\"C:\\Users\\jdejo\\Downloads\\sequence_Mtuberculosis_H37Rv.fasta\")\n",
    "compute_stats(record)"
   ]
  },
  {
   "cell_type": "markdown",
   "id": "5fb2453b",
   "metadata": {},
   "source": [
    "generate_report example"
   ]
  },
  {
   "cell_type": "code",
   "execution_count": 4,
   "id": "d19ef3c0",
   "metadata": {},
   "outputs": [
    {
     "data": {
      "text/html": [
       "<div>\n",
       "<style scoped>\n",
       "    .dataframe tbody tr th:only-of-type {\n",
       "        vertical-align: middle;\n",
       "    }\n",
       "\n",
       "    .dataframe tbody tr th {\n",
       "        vertical-align: top;\n",
       "    }\n",
       "\n",
       "    .dataframe thead th {\n",
       "        text-align: right;\n",
       "    }\n",
       "</style>\n",
       "<table border=\"1\" class=\"dataframe\">\n",
       "  <thead>\n",
       "    <tr style=\"text-align: right;\">\n",
       "      <th></th>\n",
       "      <th>0</th>\n",
       "      <th>1</th>\n",
       "    </tr>\n",
       "  </thead>\n",
       "  <tbody>\n",
       "    <tr>\n",
       "      <th>Sequence_ID</th>\n",
       "      <td>U00096.3</td>\n",
       "      <td>NC_000962.3</td>\n",
       "    </tr>\n",
       "    <tr>\n",
       "      <th>Length</th>\n",
       "      <td>4641652</td>\n",
       "      <td>4411532</td>\n",
       "    </tr>\n",
       "    <tr>\n",
       "      <th>GC_Content</th>\n",
       "      <td>50.79071</td>\n",
       "      <td>65.614666</td>\n",
       "    </tr>\n",
       "    <tr>\n",
       "      <th>Description</th>\n",
       "      <td>U00096.3 Escherichia coli str. K-12 substr. MG...</td>\n",
       "      <td>NC_000962.3 Mycobacterium tuberculosis H37Rv, ...</td>\n",
       "    </tr>\n",
       "  </tbody>\n",
       "</table>\n",
       "</div>"
      ],
      "text/plain": [
       "                                                             0  \\\n",
       "Sequence_ID                                           U00096.3   \n",
       "Length                                                 4641652   \n",
       "GC_Content                                            50.79071   \n",
       "Description  U00096.3 Escherichia coli str. K-12 substr. MG...   \n",
       "\n",
       "                                                             1  \n",
       "Sequence_ID                                        NC_000962.3  \n",
       "Length                                                 4411532  \n",
       "GC_Content                                           65.614666  \n",
       "Description  NC_000962.3 Mycobacterium tuberculosis H37Rv, ...  "
      ]
     },
     "execution_count": 4,
     "metadata": {},
     "output_type": "execute_result"
    }
   ],
   "source": [
    "from fasta_file_summary import generate_report\n",
    "df =generate_report(r\"C:\\Users\\jdejo\\Downloads\\sequence_Ecoli_strK12_substrMG1655.fasta\",\n",
    "                    r\"C:\\Users\\jdejo\\Downloads\\sequence_Mtuberculosis_H37Rv.fasta\")\n",
    "df.T"
   ]
  }
 ],
 "metadata": {
  "kernelspec": {
   "display_name": "Python 3",
   "language": "python",
   "name": "python3"
  },
  "language_info": {
   "codemirror_mode": {
    "name": "ipython",
    "version": 3
   },
   "file_extension": ".py",
   "mimetype": "text/x-python",
   "name": "python",
   "nbconvert_exporter": "python",
   "pygments_lexer": "ipython3",
   "version": "3.10.1"
  }
 },
 "nbformat": 4,
 "nbformat_minor": 5
}
